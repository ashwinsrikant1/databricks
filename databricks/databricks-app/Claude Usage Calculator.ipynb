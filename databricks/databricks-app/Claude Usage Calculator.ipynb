{
 "cells": [
  {
   "cell_type": "code",
   "execution_count": 0,
   "metadata": {
    "application/vnd.databricks.v1+cell": {
     "cellMetadata": {
      "byteLimit": 2048000,
      "rowLimit": 10000
     },
     "inputWidgets": {},
     "nuid": "1c11a35d-095c-4336-9125-0723f1bdeb0f",
     "showTitle": false,
     "tableResultSettingsMap": {},
     "title": ""
    }
   },
   "outputs": [],
   "source": [
    "dbutils.widgets.text(\"model\", \"claude-sonnet-4\", \"Model\")\n",
    "dbutils.widgets.text(\"cloud\", \"aws\", \"Cloud\")\n",
    "dbutils.widgets.text(\"tpm_millions\", \"8.0\", \"TPM (Millions)\")\n",
    "dbutils.widgets.text(\"input_tokens_per_request\", \"30000\", \"Input Tokens / Request\")\n",
    "dbutils.widgets.text(\"output_tokens_per_request\", \"1200\", \"Output Tokens / Request\")\n",
    "dbutils.widgets.text(\"caching_ratio_percent\", \"80.0\", \"Cache Ratio (%)\")\n",
    "dbutils.widgets.text(\"discount_percent\", \"0\", \"Discount (%)\")"
   ]
  },
  {
   "cell_type": "code",
   "execution_count": 0,
   "metadata": {
    "application/vnd.databricks.v1+cell": {
     "cellMetadata": {
      "byteLimit": 2048000,
      "rowLimit": 10000
     },
     "inputWidgets": {},
     "nuid": "8facf756-f29f-469f-9020-7bb4f6e5bfa5",
     "showTitle": false,
     "tableResultSettingsMap": {},
     "title": ""
    }
   },
   "outputs": [
    {
     "output_type": "stream",
     "name": "stdout",
     "output_type": "stream",
     "text": [
      "Calculating Projected Usage: \nModel: claude-sonnet-4\nCloud: aws\nTPM (M): 40.0\nInput Tokens / request: 30000\nOutput Tokens / request: 800\nCache Ratio: 80.0\nProjected Discount: 0.0\nDaily Projected Cost: $69,568.83\nMonthly Projected Cost: $2,087,064.94\n"
     ]
    }
   ],
   "source": [
    "\"\"\"\n",
    "Claude Bedrock Pricing Calculator\n",
    "Estimates the cost of running Claude models on AWS Bedrock based on TPM and usage patterns.\n",
    "\"\"\"\n",
    "\n",
    "class ClaudeBedrockPricing:\n",
    "    def __init__(self):\n",
    "        # Pricing per 1K tokens (as of January 2025)\n",
    "        # Source: https://aws.amazon.com/bedrock/pricing/\n",
    "        self.pricing = {\n",
    "            \"claude-sonnet-4\": {\n",
    "                \"input_per_1k\": 0.003,     # $3.00 per 1M tokens\n",
    "                \"output_per_1k\": 0.015,    # $15.00 per 1M tokens\n",
    "                \"cache_write_per_1k\": 0.00375,  # $3.75 per 1M tokens\n",
    "                \"cache_read_per_1k\": 0.0003     # $0.30 per 1M tokens\n",
    "            },\n",
    "            \"claude-3-7-sonnet\": {\n",
    "                \"input_per_1k\": 0.003,     # $3.00 per 1M tokens\n",
    "                \"output_per_1k\": 0.015,    # $15.00 per 1M tokens\n",
    "                \"cache_write_per_1k\": 0.00375,  # $3.75 per 1M tokens\n",
    "                \"cache_read_per_1k\": 0.0003     # $0.30 per 1M tokens\n",
    "            },\n",
    "            \"claude-opus-4\": {\n",
    "                \"input_per_1k\": 0.015,     # $15.00 per 1M tokens (5x Sonnet)\n",
    "                \"output_per_1k\": 0.075,    # $75.00 per 1M tokens (5x Sonnet)\n",
    "                \"cache_write_per_1k\": 0.01875,  # $18.75 per 1M tokens (5x Sonnet)\n",
    "                \"cache_read_per_1k\": 0.0015     # $1.50 per 1M tokens (5x Sonnet)\n",
    "            }\n",
    "        }\n",
    "    \n",
    "    def get_pricing_for_cloud(self, model, cloud):\n",
    "        \"\"\"\n",
    "        Get pricing for a model on a specific cloud provider\n",
    "        \n",
    "        Args:\n",
    "            model (str): Claude model name\n",
    "            cloud (str): Cloud provider ('aws', 'gcp', or 'azure')\n",
    "            \n",
    "        Returns:\n",
    "            dict: Pricing structure for the model on the specified cloud\n",
    "        \"\"\"\n",
    "        if model not in self.pricing:\n",
    "            raise ValueError(f\"Model '{model}' not supported. Available models: {list(self.pricing.keys())}\")\n",
    "        \n",
    "        if cloud.lower() not in ['aws', 'gcp', 'azure']:\n",
    "            raise ValueError(f\"Cloud '{cloud}' not supported. Available clouds: aws, gcp, azure\")\n",
    "        \n",
    "        base_pricing = self.pricing[model].copy()\n",
    "        \n",
    "        # Apply 50% markup for Azure\n",
    "        if cloud.lower() == 'azure':\n",
    "            for key in base_pricing:\n",
    "                base_pricing[key] *= 1.5  # 50% markup\n",
    "        \n",
    "        return base_pricing\n",
    "    \n",
    "    def calculate_production_cost(self, model, cloud, tpm_millions, input_tokens_per_request, \n",
    "                                output_tokens_per_request, caching_ratio_percent, discount_percent=0):\n",
    "        \"\"\"\n",
    "        Calculate production cost based on TPM and usage patterns\n",
    "        \n",
    "        Args:\n",
    "            model (str): Claude model name\n",
    "            cloud (str): Cloud provider ('aws', 'gcp', or 'azure')\n",
    "            tpm_millions (float): Total tokens per minute in millions (24/7 usage)\n",
    "            input_tokens_per_request (int): Input tokens per request\n",
    "            output_tokens_per_request (int): Output tokens per request\n",
    "            caching_ratio_percent (float): Percentage of input tokens that benefit from caching (0-100)\n",
    "            discount_percent (float): Percentage discount to apply to total monthly bill (0-100)\n",
    "            \n",
    "        Returns:\n",
    "            dict: Comprehensive cost breakdown\n",
    "        \"\"\"\n",
    "        pricing = self.get_pricing_for_cloud(model, cloud)\n",
    "        caching_ratio = caching_ratio_percent / 100\n",
    "        discount_ratio = discount_percent / 100\n",
    "        \n",
    "        # Calculate requests per minute\n",
    "        total_tokens_per_request = input_tokens_per_request + output_tokens_per_request\n",
    "        tpm_actual = tpm_millions * 1_000_000  # Convert to actual tokens\n",
    "        requests_per_minute = tpm_actual / total_tokens_per_request\n",
    "        \n",
    "        # Calculate token distribution\n",
    "        input_tokens_per_minute = requests_per_minute * input_tokens_per_request\n",
    "        output_tokens_per_minute = requests_per_minute * output_tokens_per_request\n",
    "        \n",
    "        # Apply caching logic - only if caching_ratio_percent > 0\n",
    "        if caching_ratio_percent > 0:\n",
    "            cache_read_tokens_per_minute = input_tokens_per_minute * caching_ratio\n",
    "            regular_input_tokens_per_minute = input_tokens_per_minute * (1 - caching_ratio)\n",
    "            cache_read_cost_per_minute = (cache_read_tokens_per_minute / 1000) * pricing[\"cache_read_per_1k\"]\n",
    "        else:\n",
    "            cache_read_tokens_per_minute = 0\n",
    "            regular_input_tokens_per_minute = input_tokens_per_minute\n",
    "            cache_read_cost_per_minute = 0\n",
    "        \n",
    "        # Calculate costs per minute\n",
    "        regular_input_cost_per_minute = (regular_input_tokens_per_minute / 1000) * pricing[\"input_per_1k\"]\n",
    "        output_cost_per_minute = (output_tokens_per_minute / 1000) * pricing[\"output_per_1k\"]\n",
    "        \n",
    "        total_cost_per_minute = regular_input_cost_per_minute + output_cost_per_minute + cache_read_cost_per_minute\n",
    "        \n",
    "        # Calculate time-based costs (before discount)\n",
    "        cost_per_hour = total_cost_per_minute * 60\n",
    "        cost_per_day = cost_per_hour * 24\n",
    "        cost_per_month = cost_per_day * 30  # 30 days\n",
    "        cost_per_year = cost_per_day * 365\n",
    "        \n",
    "        # Apply discount to monthly and daily costs\n",
    "        cost_per_day_after_discount = cost_per_day * (1 - discount_ratio)\n",
    "        cost_per_month_after_discount = cost_per_month * (1 - discount_ratio)\n",
    "        \n",
    "        # Calculate monthly token volumes\n",
    "        monthly_total_tokens = tpm_actual * 60 * 24 * 30  # 30 days\n",
    "        monthly_input_tokens = input_tokens_per_minute * 60 * 24 * 30\n",
    "        monthly_output_tokens = output_tokens_per_minute * 60 * 24 * 30\n",
    "        monthly_cache_read_tokens = cache_read_tokens_per_minute * 60 * 24 * 30\n",
    "        monthly_regular_input_tokens = regular_input_tokens_per_minute * 60 * 24 * 30\n",
    "        \n",
    "        return {\n",
    "            \"model\": model,\n",
    "            \"cloud\": cloud,\n",
    "            \"tpm_millions\": tpm_millions,\n",
    "            \"input_tokens_per_request\": input_tokens_per_request,\n",
    "            \"output_tokens_per_request\": output_tokens_per_request,\n",
    "            \"caching_ratio_percent\": caching_ratio_percent,\n",
    "            \"discount_percent\": discount_percent,\n",
    "            \"requests_per_minute\": requests_per_minute,\n",
    "            \"requests_per_day\": requests_per_minute * 60 * 24,\n",
    "            \"requests_per_month\": requests_per_minute * 60 * 24 * 30,\n",
    "            # Token breakdown per minute\n",
    "            \"input_tokens_per_minute\": input_tokens_per_minute,\n",
    "            \"output_tokens_per_minute\": output_tokens_per_minute,\n",
    "            \"cache_read_tokens_per_minute\": cache_read_tokens_per_minute,\n",
    "            \"regular_input_tokens_per_minute\": regular_input_tokens_per_minute,\n",
    "            # Cost breakdown per minute\n",
    "            \"regular_input_cost_per_minute\": regular_input_cost_per_minute,\n",
    "            \"output_cost_per_minute\": output_cost_per_minute,\n",
    "            \"cache_read_cost_per_minute\": cache_read_cost_per_minute,\n",
    "            \"total_cost_per_minute\": total_cost_per_minute,\n",
    "            # Time-based costs (before discount)\n",
    "            \"cost_per_hour\": cost_per_hour,\n",
    "            \"cost_per_day\": cost_per_day,\n",
    "            \"cost_per_month\": cost_per_month,\n",
    "            \"cost_per_year\": cost_per_year,\n",
    "            # Time-based costs (after discount)\n",
    "            \"cost_per_day_after_discount\": cost_per_day_after_discount,\n",
    "            \"cost_per_month_after_discount\": cost_per_month_after_discount,\n",
    "            # Monthly token volumes\n",
    "            \"monthly_total_tokens\": monthly_total_tokens,\n",
    "            \"monthly_input_tokens\": monthly_input_tokens,\n",
    "            \"monthly_output_tokens\": monthly_output_tokens,\n",
    "            \"monthly_cache_read_tokens\": monthly_cache_read_tokens,\n",
    "            \"monthly_regular_input_tokens\": monthly_regular_input_tokens\n",
    "        }\n",
    "    \n",
    "    def compare_models_production(self, cloud, tpm_millions, input_tokens_per_request, \n",
    "                                output_tokens_per_request, caching_ratio_percent, discount_percent=0):\n",
    "        \"\"\"\n",
    "        Compare production costs across all Claude models\n",
    "        \n",
    "        Args:\n",
    "            cloud (str): Cloud provider ('aws', 'gcp', or 'azure')\n",
    "            tpm_millions (float): Total tokens per minute in millions\n",
    "            input_tokens_per_request (int): Input tokens per request\n",
    "            output_tokens_per_request (int): Output tokens per request\n",
    "            caching_ratio_percent (float): Percentage of input tokens that benefit from caching\n",
    "            discount_percent (float): Percentage discount to apply to total monthly bill\n",
    "            \n",
    "        Returns:\n",
    "            list: Cost comparison for all models, sorted by monthly cost\n",
    "        \"\"\"\n",
    "        comparisons = []\n",
    "        for model in self.pricing.keys():\n",
    "            cost_info = self.calculate_production_cost(\n",
    "                model, cloud, tpm_millions, input_tokens_per_request, \n",
    "                output_tokens_per_request, caching_ratio_percent, discount_percent\n",
    "            )\n",
    "            comparisons.append(cost_info)\n",
    "        \n",
    "        # Sort by monthly cost (after discount)\n",
    "        return sorted(comparisons, key=lambda x: x[\"cost_per_month_after_discount\"])\n",
    "    \n",
    "    def print_pricing_table(self):\n",
    "        \"\"\"Print a formatted pricing table for all models\"\"\"\n",
    "        print(\"Claude Bedrock Pricing (per 1K tokens)\")\n",
    "        print(\"=\" * 80)\n",
    "        print(f\"{'Model':<20} {'Input':<10} {'Output':<10} {'Cache Write':<12} {'Cache Read':<12}\")\n",
    "        print(\"-\" * 80)\n",
    "        \n",
    "        for model, pricing in self.pricing.items():\n",
    "            print(f\"{model:<20} ${pricing['input_per_1k']:<9.5f} ${pricing['output_per_1k']:<9.5f} \"\n",
    "                  f\"${pricing['cache_write_per_1k']:<11.5f} ${pricing['cache_read_per_1k']:<11.5f}\")\n",
    "    \n",
    "    def print_production_estimate(self, result):\n",
    "        \"\"\"Print a formatted production cost estimate\"\"\"\n",
    "        print(f\"Daily Projected Cost: ${result['cost_per_day_after_discount']:,.2f}\")\n",
    "        print(f\"Monthly Projected Cost: ${result['cost_per_month_after_discount']:,.2f}\")\n",
    "\n",
    "\n",
    "def main():\n",
    "    \"\"\"Example usage of the production pricing calculator\"\"\"\n",
    "    calculator = ClaudeBedrockPricing()\n",
    "    model = dbutils.widgets.get(\"model\")\n",
    "    cloud = dbutils.widgets.get(\"cloud\")\n",
    "    tpm_millions = float(dbutils.widgets.get(\"tpm_millions\"))\n",
    "    input_tokens_per_request = int(dbutils.widgets.get(\"input_tokens_per_request\"))\n",
    "    output_tokens_per_request = int(dbutils.widgets.get(\"output_tokens_per_request\"))\n",
    "    caching_ratio_percent = float(dbutils.widgets.get(\"caching_ratio_percent\"))\n",
    "    discount_percent = float(dbutils.widgets.get(\"discount_percent\"))\n",
    "\n",
    "    print(\"Calculating Projected Usage: \")\n",
    "    print(f\"Model: \" + model)\n",
    "    print(f\"Cloud: \" + cloud)\n",
    "    print(\"TPM (M): \" + str(tpm_millions))\n",
    "    print(\"Input Tokens / request: \" + str(input_tokens_per_request))\n",
    "    print(\"Output Tokens / request: \" + str(output_tokens_per_request))\n",
    "    print(\"Cache Ratio: \" + str(caching_ratio_percent))\n",
    "    print(\"Projected Discount: \" + str(discount_percent))\n",
    "\n",
    "    # Example: Production cost estimate with discount\n",
    "    result = calculator.calculate_production_cost(\n",
    "        model,\n",
    "        cloud,\n",
    "        tpm_millions,\n",
    "        input_tokens_per_request,\n",
    "        output_tokens_per_request,\n",
    "        caching_ratio_percent,\n",
    "        discount_percent\n",
    "    )\n",
    "\n",
    "    \n",
    "    calculator.print_production_estimate(result)\n",
    "\n",
    "\n",
    "if __name__ == \"__main__\":\n",
    "    main()"
   ]
  }
 ],
 "metadata": {
  "application/vnd.databricks.v1+notebook": {
   "computePreferences": null,
   "dashboards": [],
   "environmentMetadata": {
    "base_environment": "",
    "environment_version": "2"
   },
   "inputWidgetPreferences": null,
   "language": "python",
   "notebookMetadata": {
    "pythonIndentUnit": 2
   },
   "notebookName": "Claude Usage Calculator",
   "widgets": {
    "caching_ratio_percent": {
     "currentValue": "80",
     "nuid": "2b602af8-3215-485e-ac70-24fbc5a1ae98",
     "typedWidgetInfo": {
      "autoCreated": false,
      "defaultValue": "80.0",
      "label": "Cache Ratio (%)",
      "name": "caching_ratio_percent",
      "options": {
       "widgetDisplayType": "Text",
       "validationRegex": null
      },
      "parameterDataType": "String"
     },
     "widgetInfo": {
      "widgetType": "text",
      "defaultValue": "80.0",
      "label": "Cache Ratio (%)",
      "name": "caching_ratio_percent",
      "options": {
       "widgetType": "text",
       "autoCreated": null,
       "validationRegex": null
      }
     }
    },
    "cloud": {
     "currentValue": "aws",
     "nuid": "a2da2768-1e33-4ca8-ba6f-8e2548c49bcf",
     "typedWidgetInfo": {
      "autoCreated": false,
      "defaultValue": "aws",
      "label": "Cloud",
      "name": "cloud",
      "options": {
       "widgetDisplayType": "Text",
       "validationRegex": null
      },
      "parameterDataType": "String"
     },
     "widgetInfo": {
      "widgetType": "text",
      "defaultValue": "aws",
      "label": "Cloud",
      "name": "cloud",
      "options": {
       "widgetType": "text",
       "autoCreated": null,
       "validationRegex": null
      }
     }
    },
    "discount_percent": {
     "currentValue": "0",
     "nuid": "bce53a21-e6b4-451d-9b84-5fc45ea1d8ff",
     "typedWidgetInfo": {
      "autoCreated": false,
      "defaultValue": "0",
      "label": "Discount (%)",
      "name": "discount_percent",
      "options": {
       "widgetDisplayType": "Text",
       "validationRegex": null
      },
      "parameterDataType": "String"
     },
     "widgetInfo": {
      "widgetType": "text",
      "defaultValue": "0",
      "label": "Discount (%)",
      "name": "discount_percent",
      "options": {
       "widgetType": "text",
       "autoCreated": null,
       "validationRegex": null
      }
     }
    },
    "input_tokens_per_request": {
     "currentValue": "30000",
     "nuid": "eb618542-b2ed-460c-a16d-c080b16f8e2f",
     "typedWidgetInfo": {
      "autoCreated": false,
      "defaultValue": "30000",
      "label": "Input Tokens / Request",
      "name": "input_tokens_per_request",
      "options": {
       "widgetDisplayType": "Text",
       "validationRegex": null
      },
      "parameterDataType": "String"
     },
     "widgetInfo": {
      "widgetType": "text",
      "defaultValue": "30000",
      "label": "Input Tokens / Request",
      "name": "input_tokens_per_request",
      "options": {
       "widgetType": "text",
       "autoCreated": null,
       "validationRegex": null
      }
     }
    },
    "model": {
     "currentValue": "claude-sonnet-4",
     "nuid": "3a49aced-8440-4460-88ef-493c36bf726c",
     "typedWidgetInfo": {
      "autoCreated": false,
      "defaultValue": "claude-sonnet-4",
      "label": "Model",
      "name": "model",
      "options": {
       "widgetDisplayType": "Text",
       "validationRegex": null
      },
      "parameterDataType": "String"
     },
     "widgetInfo": {
      "widgetType": "text",
      "defaultValue": "claude-sonnet-4",
      "label": "Model",
      "name": "model",
      "options": {
       "widgetType": "text",
       "autoCreated": null,
       "validationRegex": null
      }
     }
    },
    "output_tokens_per_request": {
     "currentValue": "800",
     "nuid": "9376a22c-e483-4bdc-aa0c-47b399813dd0",
     "typedWidgetInfo": {
      "autoCreated": false,
      "defaultValue": "1200",
      "label": "Output Tokens / Request",
      "name": "output_tokens_per_request",
      "options": {
       "widgetDisplayType": "Text",
       "validationRegex": null
      },
      "parameterDataType": "String"
     },
     "widgetInfo": {
      "widgetType": "text",
      "defaultValue": "1200",
      "label": "Output Tokens / Request",
      "name": "output_tokens_per_request",
      "options": {
       "widgetType": "text",
       "autoCreated": null,
       "validationRegex": null
      }
     }
    },
    "tpm_millions": {
     "currentValue": "40",
     "nuid": "61f467d6-01d7-4adc-a7b3-4d2924c46617",
     "typedWidgetInfo": {
      "autoCreated": false,
      "defaultValue": "8.0",
      "label": "TPM (Millions)",
      "name": "tpm_millions",
      "options": {
       "widgetDisplayType": "Text",
       "validationRegex": null
      },
      "parameterDataType": "String"
     },
     "widgetInfo": {
      "widgetType": "text",
      "defaultValue": "8.0",
      "label": "TPM (Millions)",
      "name": "tpm_millions",
      "options": {
       "widgetType": "text",
       "autoCreated": null,
       "validationRegex": null
      }
     }
    }
   }
  },
  "language_info": {
   "name": "python"
  }
 },
 "nbformat": 4,
 "nbformat_minor": 0
}